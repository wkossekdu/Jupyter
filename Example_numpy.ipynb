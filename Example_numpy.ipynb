{
 "cells": [
  {
   "cell_type": "code",
   "execution_count": 1,
   "metadata": {},
   "outputs": [
    {
     "name": "stdout",
     "output_type": "stream",
     "text": [
      "[1 2 3]\n"
     ]
    }
   ],
   "source": [
    "import numpy as np\n",
    "\n",
    "row = np.array([1,2,3])\n",
    "print(row)\n"
   ]
  },
  {
   "cell_type": "code",
   "execution_count": 5,
   "metadata": {},
   "outputs": [
    {
     "name": "stdout",
     "output_type": "stream",
     "text": [
      "[[1 0 3]\n",
      " [0 5 6]]\n",
      "This is a  2  dimensional array\n",
      "Each element is of type:  int64\n",
      "The size of this array is:  6\n",
      "and its shape is:  (2, 3)\n"
     ]
    }
   ],
   "source": [
    "a = np.array([(1,0,3),(0,5,6)], dtype='i8')\n",
    "print(a)\n",
    "\n",
    "\n",
    "print('This is a ',a.ndim,' dimensional array')\n",
    "print('Each element is of type: ',a.dtype)\n",
    "print('The size of this array is: ',a.size)\n",
    "print('and its shape is: ', a.shape)\n"
   ]
  },
  {
   "cell_type": "code",
   "execution_count": 14,
   "metadata": {},
   "outputs": [
    {
     "name": "stdout",
     "output_type": "stream",
     "text": [
      "[[ True False  True]\n",
      " [False  True  True]]\n",
      "This is a  2  dimensional array\n",
      "Each element is of type:  bool\n"
     ]
    }
   ],
   "source": [
    "new_a = a.astype(bool)\n",
    "print(new_a)\n",
    "print('This is a ',new_a.ndim,' dimensional array')\n",
    "print('Each element is of type: ',new_a.dtype)\n"
   ]
  },
  {
   "cell_type": "code",
   "execution_count": 15,
   "metadata": {},
   "outputs": [
    {
     "name": "stdout",
     "output_type": "stream",
     "text": [
      "[[1.1 0.  3. ]\n",
      " [0.  5.8 6. ]]\n",
      "This is a  2  dimensional array\n",
      "Each element is of type:  float64\n",
      "The size of this array is:  6\n",
      "and its shape is:  (2, 3)\n"
     ]
    }
   ],
   "source": [
    "a = np.array([(1.1,0,3),(0,5.8,6)],dtype='f8')\n",
    "print(a)\n",
    "print('This is a ',a.ndim,' dimensional array')\n",
    "print('Each element is of type: ',a.dtype)\n",
    "print('The size of this array is: ',a.size)\n",
    "print('and its shape is: ', a.shape)\n"
   ]
  },
  {
   "cell_type": "code",
   "execution_count": 18,
   "metadata": {},
   "outputs": [
    {
     "name": "stdout",
     "output_type": "stream",
     "text": [
      "[[1 0 3]\n",
      " [0 5 6]]\n",
      "This is a  2  dimensional array\n",
      "Each element is of type:  int16\n"
     ]
    }
   ],
   "source": [
    "#new_a = a.astype(int)\n",
    "new_a = a.astype('i2')\n",
    "print(new_a)\n",
    "print('This is a ',new_a.ndim,' dimensional array')\n",
    "print('Each element is of type: ',new_a.dtype)\n"
   ]
  },
  {
   "cell_type": "code",
   "execution_count": 7,
   "metadata": {},
   "outputs": [
    {
     "name": "stdout",
     "output_type": "stream",
     "text": [
      "[[1 0]\n",
      " [3 0]\n",
      " [5 6]]\n",
      "This is a  2  dimensional array\n",
      "Each element is of type:  int64\n",
      "The size of this array is:  6\n",
      "and its shape is:  (3, 2)\n"
     ]
    }
   ],
   "source": [
    "a=a.reshape(3,2)\n",
    "print(a)\n",
    "print('This is a ',a.ndim,' dimensional array')\n",
    "print('Each element is of type: ',a.dtype)\n",
    "print('The size of this array is: ',a.size)\n",
    "print('and its shape is: ', a.shape)\n"
   ]
  },
  {
   "cell_type": "code",
   "execution_count": 11,
   "metadata": {},
   "outputs": [
    {
     "name": "stdout",
     "output_type": "stream",
     "text": [
      "The size of this list is approximately:  28000\n"
     ]
    },
    {
     "data": {
      "text/plain": [
       "1000"
      ]
     },
     "execution_count": 11,
     "metadata": {},
     "output_type": "execute_result"
    }
   ],
   "source": [
    "import sys\n",
    "S= range(1000)\n",
    "print('The size of this list is approximately: ',\n",
    "      sys.getsizeof(5)*len(S))\n"
   ]
  },
  {
   "cell_type": "code",
   "execution_count": 23,
   "metadata": {},
   "outputs": [
    {
     "name": "stdout",
     "output_type": "stream",
     "text": [
      "The size of this array list is approximately:  4000\n"
     ]
    }
   ],
   "source": [
    " \n",
    "D= np.arange(1000)\n",
    "print('The size of this array list is approximately: ',\n",
    "      D.size*D.itemsize)\n"
   ]
  },
  {
   "cell_type": "code",
   "execution_count": 24,
   "metadata": {},
   "outputs": [
    {
     "name": "stdout",
     "output_type": "stream",
     "text": [
      "[0 1 2]\n",
      "[0. 1. 2.]\n",
      "[3 4 5 6]\n",
      "[ 3  5  7  9 11 13]\n"
     ]
    }
   ],
   "source": [
    "print(np.arange(3))\n",
    "print(np.arange(3.0))\n",
    "print(np.arange(3,7))\n",
    "print(np.arange(3,15,2))\n"
   ]
  },
  {
   "cell_type": "code",
   "execution_count": 25,
   "metadata": {},
   "outputs": [
    {
     "name": "stdout",
     "output_type": "stream",
     "text": [
      "[[0. 0. 0. 0.]\n",
      " [0. 0. 0. 0.]\n",
      " [0. 0. 0. 0.]]\n"
     ]
    }
   ],
   "source": [
    "empty_array = np.zeros((3,4))\n",
    "print(empty_array)\n"
   ]
  },
  {
   "cell_type": "code",
   "execution_count": 26,
   "metadata": {},
   "outputs": [
    {
     "name": "stdout",
     "output_type": "stream",
     "text": [
      "[[1. 1. 1. 1.]\n",
      " [1. 1. 1. 1.]\n",
      " [1. 1. 1. 1.]]\n"
     ]
    }
   ],
   "source": [
    "ones_array = np.ones((3,4))\n",
    "print(ones_array)\n"
   ]
  },
  {
   "cell_type": "code",
   "execution_count": 27,
   "metadata": {},
   "outputs": [
    {
     "name": "stdout",
     "output_type": "stream",
     "text": [
      "[[0.94740578 0.69903466 0.18589817 0.08097752]\n",
      " [0.99237993 0.68992768 0.21378628 0.49574528]\n",
      " [0.45922866 0.11354516 0.76335588 0.26320036]]\n"
     ]
    }
   ],
   "source": [
    "a = np.random.rand(3,4)\n",
    "print(a)\n"
   ]
  },
  {
   "cell_type": "code",
   "execution_count": 28,
   "metadata": {},
   "outputs": [
    {
     "name": "stdout",
     "output_type": "stream",
     "text": [
      "a=\n",
      " [[1 0]\n",
      " [0 3]]\n",
      "b=\n",
      " [[3 5]\n",
      " [1 7]]\n"
     ]
    }
   ],
   "source": [
    "a = np.array([(1, 0),(0,3)])\n",
    "b = np.array([(3, 5),(1,7)])\n",
    "print('a=\\n',a)\n",
    "print('b=\\n',b)\n"
   ]
  },
  {
   "cell_type": "code",
   "execution_count": 29,
   "metadata": {},
   "outputs": [
    {
     "name": "stdout",
     "output_type": "stream",
     "text": [
      "a*b=\n",
      " [[ 3  0]\n",
      " [ 0 21]]\n"
     ]
    }
   ],
   "source": [
    "print('a*b=\\n',a*b)\n"
   ]
  },
  {
   "cell_type": "code",
   "execution_count": 30,
   "metadata": {},
   "outputs": [
    {
     "name": "stdout",
     "output_type": "stream",
     "text": [
      "a@b=\n",
      " [[ 3  5]\n",
      " [ 3 21]]\n",
      "a.dot(b)=\n",
      " [[ 3  5]\n",
      " [ 3 21]]\n",
      "np.dot(a,b)=\n",
      " [[ 3  5]\n",
      " [ 3 21]]\n"
     ]
    }
   ],
   "source": [
    "print('a@b=\\n',a@b)\n",
    "\n",
    "print('a.dot(b)=\\n',a.dot(b))\n",
    "\n",
    "print('np.dot(a,b)=\\n',np.dot(a,b))\n",
    "\n"
   ]
  }
 ],
 "metadata": {
  "kernelspec": {
   "display_name": "Python 3",
   "language": "python",
   "name": "python3"
  },
  "language_info": {
   "codemirror_mode": {
    "name": "ipython",
    "version": 3
   },
   "file_extension": ".py",
   "mimetype": "text/x-python",
   "name": "python",
   "nbconvert_exporter": "python",
   "pygments_lexer": "ipython3",
   "version": "3.8.1"
  }
 },
 "nbformat": 4,
 "nbformat_minor": 4
}
